{
 "cells": [
  {
   "cell_type": "code",
   "execution_count": 1,
   "metadata": {},
   "outputs": [
    {
     "name": "stderr",
     "output_type": "stream",
     "text": [
      "C:\\anaconda\\lib\\site-packages\\h5py\\__init__.py:36: FutureWarning: Conversion of the second argument of issubdtype from `float` to `np.floating` is deprecated. In future, it will be treated as `np.float64 == np.dtype(float).type`.\n",
      "  from ._conv import register_converters as _register_converters\n",
      "Using TensorFlow backend.\n"
     ]
    }
   ],
   "source": [
    "import tensorflow as tf\n",
    "import keras\n",
    "from keras.utils import np_utils\n",
    "from keras.models import Sequential\n",
    "from keras.layers import Conv2D,MaxPooling2D,Dense,Flatten,Dropout,BatchNormalization,Activation\n",
    "from keras.utils import to_categorical\n",
    "\n",
    "import numpy as np\n",
    "import pandas as pd\n",
    "import matplotlib.pyplot as plt\n",
    "import seaborn as sns\n",
    "\n",
    "import os\n",
    "import cv2\n",
    "from PIL import Image"
   ]
  },
  {
   "cell_type": "code",
   "execution_count": 2,
   "metadata": {},
   "outputs": [],
   "source": [
    "from keras.applications.vgg16 import VGG16\n",
    "from keras.utils.vis_utils import plot_model\n",
    "from keras import backend as K"
   ]
  },
  {
   "cell_type": "code",
   "execution_count": 3,
   "metadata": {},
   "outputs": [],
   "source": [
    "cells=np.load('Cells.npy')\n",
    "labels=np.load('Labels.npy')"
   ]
  },
  {
   "cell_type": "code",
   "execution_count": 4,
   "metadata": {
    "scrolled": true
   },
   "outputs": [
    {
     "name": "stdout",
     "output_type": "stream",
     "text": [
      "[[[0 0 0]\n",
      "  [0 0 0]\n",
      "  [0 0 0]\n",
      "  ...\n",
      "  [0 0 0]\n",
      "  [0 0 0]\n",
      "  [0 0 0]]\n",
      "\n",
      " [[0 0 0]\n",
      "  [0 0 0]\n",
      "  [0 0 0]\n",
      "  ...\n",
      "  [0 0 0]\n",
      "  [0 0 0]\n",
      "  [0 0 0]]\n",
      "\n",
      " [[0 0 0]\n",
      "  [0 0 0]\n",
      "  [0 0 0]\n",
      "  ...\n",
      "  [0 0 0]\n",
      "  [0 0 0]\n",
      "  [0 0 0]]\n",
      "\n",
      " ...\n",
      "\n",
      " [[0 0 0]\n",
      "  [0 0 0]\n",
      "  [0 0 0]\n",
      "  ...\n",
      "  [0 0 0]\n",
      "  [0 0 0]\n",
      "  [0 0 0]]\n",
      "\n",
      " [[0 0 0]\n",
      "  [0 0 0]\n",
      "  [0 0 0]\n",
      "  ...\n",
      "  [0 0 0]\n",
      "  [0 0 0]\n",
      "  [0 0 0]]\n",
      "\n",
      " [[0 0 0]\n",
      "  [0 0 0]\n",
      "  [0 0 0]\n",
      "  ...\n",
      "  [0 0 0]\n",
      "  [0 0 0]\n",
      "  [0 0 0]]]\n",
      "1\n"
     ]
    }
   ],
   "source": [
    "print(cells[0])\n",
    "print(labels[0])"
   ]
  },
  {
   "cell_type": "code",
   "execution_count": 41,
   "metadata": {},
   "outputs": [],
   "source": [
    "n = np.arange(cells.shape[0])\n",
    "np.random.shuffle(n)\n",
    "cells = cells[n]\n",
    "labels = labels[n]"
   ]
  },
  {
   "cell_type": "code",
   "execution_count": 50,
   "metadata": {},
   "outputs": [],
   "source": [
    "from sklearn.model_selection import train_test_split\n",
    "\n",
    "train_x , x , train_y , y = train_test_split(cells , labels , \n",
    "                                            test_size = 0.2 ,\n",
    "                                            random_state = 111)\n",
    "\n",
    "eval_x , test_x , eval_y , test_y = train_test_split(x , y , \n",
    "                                                    test_size = 0.5 , \n",
    "                                                    random_state = 111)"
   ]
  },
  {
   "cell_type": "code",
   "execution_count": 43,
   "metadata": {},
   "outputs": [
    {
     "data": {
      "text/plain": [
       "(22046, 50, 50, 3)"
      ]
     },
     "execution_count": 43,
     "metadata": {},
     "output_type": "execute_result"
    }
   ],
   "source": [
    "train_x.shape"
   ]
  },
  {
   "cell_type": "code",
   "execution_count": 7,
   "metadata": {},
   "outputs": [],
   "source": [
    "img_rows=50\n",
    "img_cols=50\n",
    "num_classes=2\n",
    "epochs = 10\n",
    "batch_size = 128"
   ]
  },
  {
   "cell_type": "code",
   "execution_count": 51,
   "metadata": {},
   "outputs": [],
   "source": [
    "if K.image_data_format() == 'channels_first':\n",
    "    train_x = train_x.reshape(train_x.shape[0], 3, img_rows, img_cols)\n",
    "    test_x = test_x.reshape(test_x.shape[0], 3, img_rows, img_cols)\n",
    "    eval_x = eval_x.reshape(eval_x.shape[0], 3, img_rows, img_cols)\n",
    "    input_shape = (3, img_rows, img_cols)\n",
    "else:\n",
    "    train_x = train_x.reshape(train_x.shape[0], img_rows, img_cols, 3)\n",
    "    eval_x = eval_x.reshape(eval_x.shape[0], img_rows, img_cols, 3)\n",
    "    test_x = test_x.reshape(test_x.shape[0], img_rows, img_cols, 3)\n",
    "    input_shape = (img_rows, img_cols, 3)"
   ]
  },
  {
   "cell_type": "code",
   "execution_count": 52,
   "metadata": {},
   "outputs": [
    {
     "data": {
      "text/plain": [
       "(2756, 50, 50, 3)"
      ]
     },
     "execution_count": 52,
     "metadata": {},
     "output_type": "execute_result"
    }
   ],
   "source": [
    "eval_x.shape"
   ]
  },
  {
   "cell_type": "code",
   "execution_count": 53,
   "metadata": {},
   "outputs": [
    {
     "data": {
      "text/plain": [
       "array([0, 1, 0, ..., 0, 1, 0])"
      ]
     },
     "execution_count": 53,
     "metadata": {},
     "output_type": "execute_result"
    }
   ],
   "source": [
    "test_y1=test_y\n",
    "test_y1"
   ]
  },
  {
   "cell_type": "code",
   "execution_count": 54,
   "metadata": {},
   "outputs": [],
   "source": [
    "# convert class vectors to binary class matrices\n",
    "train_y = keras.utils.to_categorical(train_y, 2)\n",
    "test_y = keras.utils.to_categorical(test_y, 2)\n",
    "eval_y = keras.utils.to_categorical(eval_y, 2)"
   ]
  },
  {
   "cell_type": "code",
   "execution_count": 55,
   "metadata": {},
   "outputs": [
    {
     "data": {
      "text/plain": [
       "2"
      ]
     },
     "execution_count": 55,
     "metadata": {},
     "output_type": "execute_result"
    }
   ],
   "source": [
    "num_classes=len(np.unique(labels))\n",
    "num_classes"
   ]
  },
  {
   "cell_type": "code",
   "execution_count": 65,
   "metadata": {
    "scrolled": true
   },
   "outputs": [
    {
     "name": "stdout",
     "output_type": "stream",
     "text": [
      "_________________________________________________________________\n",
      "Layer (type)                 Output Shape              Param #   \n",
      "=================================================================\n",
      "vgg16 (Model)                (None, 1, 1, 512)         14714688  \n",
      "_________________________________________________________________\n",
      "flatten_3 (Flatten)          (None, 512)               0         \n",
      "_________________________________________________________________\n",
      "dense_5 (Dense)              (None, 100)               51300     \n",
      "_________________________________________________________________\n",
      "dropout_7 (Dropout)          (None, 100)               0         \n",
      "_________________________________________________________________\n",
      "dense_6 (Dense)              (None, 2)                 202       \n",
      "=================================================================\n",
      "Total params: 14,766,190\n",
      "Trainable params: 7,130,926\n",
      "Non-trainable params: 7,635,264\n",
      "_________________________________________________________________\n",
      "None\n"
     ]
    }
   ],
   "source": [
    "vgg_conv=VGG16(include_top=False,weights='imagenet',input_shape=(img_rows, img_cols, 3))\n",
    "print(model.summary())"
   ]
  },
  {
   "cell_type": "code",
   "execution_count": 66,
   "metadata": {},
   "outputs": [
    {
     "name": "stdout",
     "output_type": "stream",
     "text": [
      "<keras.engine.topology.InputLayer object at 0x0000022634BCE588> False\n",
      "<keras.layers.convolutional.Conv2D object at 0x0000022634BCE828> False\n",
      "<keras.layers.convolutional.Conv2D object at 0x0000022634BCE630> False\n",
      "<keras.layers.pooling.MaxPooling2D object at 0x0000022634BCEE10> False\n",
      "<keras.layers.convolutional.Conv2D object at 0x00000226365E1EB8> False\n",
      "<keras.layers.convolutional.Conv2D object at 0x0000022637977278> False\n",
      "<keras.layers.pooling.MaxPooling2D object at 0x0000022637986FD0> False\n",
      "<keras.layers.convolutional.Conv2D object at 0x00000226379A95F8> False\n",
      "<keras.layers.convolutional.Conv2D object at 0x00000226379A9668> False\n",
      "<keras.layers.convolutional.Conv2D object at 0x00000226365ABC50> False\n",
      "<keras.layers.pooling.MaxPooling2D object at 0x00000226365879B0> False\n",
      "<keras.layers.convolutional.Conv2D object at 0x00000226379D9438> False\n",
      "<keras.layers.convolutional.Conv2D object at 0x00000226379D9E10> False\n",
      "<keras.layers.convolutional.Conv2D object at 0x0000022637A00CF8> False\n",
      "<keras.layers.pooling.MaxPooling2D object at 0x0000022637A11A58> False\n",
      "<keras.layers.convolutional.Conv2D object at 0x0000022637A324E0> True\n",
      "<keras.layers.convolutional.Conv2D object at 0x0000022637A32EB8> True\n",
      "<keras.layers.convolutional.Conv2D object at 0x0000022637A5BDA0> True\n",
      "<keras.layers.pooling.MaxPooling2D object at 0x0000022637A6DB00> True\n"
     ]
    }
   ],
   "source": [
    "# Freeze the layers except the last 4 layers\n",
    "for layer in vgg_conv.layers[:-4]:\n",
    "    layer.trainable = False\n",
    " \n",
    "#Check the trainable status of the individual layers\n",
    "for layer in vgg_conv.layers:\n",
    "    print(layer, layer.trainable)"
   ]
  },
  {
   "cell_type": "code",
   "execution_count": 67,
   "metadata": {},
   "outputs": [],
   "source": [
    "from keras.layers import Input, Flatten, Dense\n",
    "from keras.models import Model"
   ]
  },
  {
   "cell_type": "markdown",
   "metadata": {},
   "source": [
    "### trying with bottleneck features"
   ]
  },
  {
   "cell_type": "code",
   "execution_count": 68,
   "metadata": {},
   "outputs": [
    {
     "name": "stdout",
     "output_type": "stream",
     "text": [
      "_________________________________________________________________\n",
      "Layer (type)                 Output Shape              Param #   \n",
      "=================================================================\n",
      "vgg16 (Model)                (None, 1, 1, 512)         14714688  \n",
      "_________________________________________________________________\n",
      "flatten_4 (Flatten)          (None, 512)               0         \n",
      "_________________________________________________________________\n",
      "dense_7 (Dense)              (None, 100)               51300     \n",
      "_________________________________________________________________\n",
      "dropout_8 (Dropout)          (None, 100)               0         \n",
      "_________________________________________________________________\n",
      "dense_8 (Dense)              (None, 2)                 202       \n",
      "=================================================================\n",
      "Total params: 14,766,190\n",
      "Trainable params: 7,130,926\n",
      "Non-trainable params: 7,635,264\n",
      "_________________________________________________________________\n"
     ]
    }
   ],
   "source": [
    "from keras import models\n",
    "from keras import layers\n",
    "from keras import optimizers\n",
    " \n",
    "# Create the model\n",
    "model = models.Sequential()\n",
    " \n",
    "# Add the vgg convolutional base model\n",
    "model.add(vgg_conv)\n",
    " \n",
    "# Add new layers\n",
    "model.add(layers.Flatten(input_shape=train_x.shape[1:]))\n",
    "model.add(layers.Dense(100, activation='relu'))\n",
    "model.add(layers.Dropout(0.5))\n",
    "model.add(layers.Dense(2, activation='softmax'))\n",
    " \n",
    "# Show a summary of the model. Check the number of trainable parameters\n",
    "model.summary()\n"
   ]
  },
  {
   "cell_type": "code",
   "execution_count": 69,
   "metadata": {},
   "outputs": [
    {
     "name": "stdout",
     "output_type": "stream",
     "text": [
      "Train on 22046 samples, validate on 2756 samples\n",
      "Epoch 1/10\n",
      "22046/22046 [==============================] - 18s 818us/step - loss: 0.4083 - acc: 0.8685 - val_loss: 0.1955 - val_acc: 0.9067\n",
      "Epoch 2/10\n",
      "22046/22046 [==============================] - 17s 767us/step - loss: 0.1949 - acc: 0.9328 - val_loss: 0.1516 - val_acc: 0.9380\n",
      "Epoch 3/10\n",
      "22046/22046 [==============================] - 17s 760us/step - loss: 0.1658 - acc: 0.9390 - val_loss: 0.1583 - val_acc: 0.9430\n",
      "Epoch 4/10\n",
      "22046/22046 [==============================] - 17s 752us/step - loss: 0.1344 - acc: 0.9506 - val_loss: 0.1390 - val_acc: 0.9340\n",
      "Epoch 5/10\n",
      "22046/22046 [==============================] - 17s 751us/step - loss: 0.1158 - acc: 0.9559 - val_loss: 0.1549 - val_acc: 0.9492\n",
      "Epoch 6/10\n",
      "22046/22046 [==============================] - 17s 753us/step - loss: 0.1231 - acc: 0.9542 - val_loss: 0.1399 - val_acc: 0.9539\n",
      "Epoch 7/10\n",
      "22046/22046 [==============================] - 17s 754us/step - loss: 0.1063 - acc: 0.9596 - val_loss: 0.1332 - val_acc: 0.9445\n",
      "Epoch 8/10\n",
      "22046/22046 [==============================] - 17s 766us/step - loss: 0.0922 - acc: 0.9646 - val_loss: 0.1568 - val_acc: 0.9554\n",
      "Epoch 9/10\n",
      "22046/22046 [==============================] - 17s 752us/step - loss: 0.0817 - acc: 0.9682 - val_loss: 0.1413 - val_acc: 0.9427\n",
      "Epoch 10/10\n",
      "22046/22046 [==============================] - 17s 767us/step - loss: 0.0752 - acc: 0.9701 - val_loss: 0.1666 - val_acc: 0.9579\n",
      "Test loss: 0.18189480702976693\n",
      "Test accuracy: 0.9560957910014514\n"
     ]
    }
   ],
   "source": [
    "model.compile(loss=keras.losses.categorical_crossentropy,\n",
    "              optimizer=keras.optimizers.Adam(lr=1e-4, beta_1=0.9, beta_2=0.999, epsilon=None, decay=0.0, amsgrad=False),\n",
    "              metrics=['accuracy'])\n",
    "\n",
    "history=model.fit(train_x, train_y,\n",
    "          batch_size=batch_size,\n",
    "          epochs=epochs,\n",
    "          verbose=1,\n",
    "          validation_data=(eval_x, eval_y))\n",
    "score = model.evaluate(test_x, test_y, verbose=0)\n",
    "print('Test loss:', score[0])\n",
    "print('Test accuracy:', score[1])"
   ]
  },
  {
   "cell_type": "code",
   "execution_count": 71,
   "metadata": {},
   "outputs": [],
   "source": [
    "def plot_loss_acc_curves(history):\n",
    "# Loss Curves\n",
    "  plt.figure(figsize=[8,6])\n",
    "  plt.plot(history.history['loss'],'r',linewidth=3.0)\n",
    "  plt.plot(history.history['val_loss'],'b',linewidth=3.0)\n",
    "  plt.legend(['Training loss', 'Validation Loss'],fontsize=18)\n",
    "  plt.xlabel('Epochs ',fontsize=16)\n",
    "  plt.ylabel('Loss',fontsize=16)\n",
    "  plt.title('Loss Curves',fontsize=16)\n",
    "# Accuracy Curves \n",
    "  plt.figure(figsize=[8,6])\n",
    "  plt.plot(history.history['acc'],'r',linewidth=3.0)\n",
    "  plt.plot(history.history['val_acc'],'b',linewidth=3.0)\n",
    "  plt.legend(['Training Accuracy', 'Validation Accuracy'],fontsize=18)\n",
    "  plt.xlabel('Epochs ',fontsize=16)\n",
    "  plt.ylabel('Accuracy',fontsize=16)\n",
    "  plt.title('Accuracy Curves',fontsize=16)"
   ]
  },
  {
   "cell_type": "code",
   "execution_count": 72,
   "metadata": {
    "scrolled": false
   },
   "outputs": [
    {
     "data": {
      "image/png": "[encoded data removed]",
      "text/plain": [
       "<Figure size 576x432 with 1 Axes>"
      ]
     },
     "metadata": {},
     "output_type": "display_data"
    },
    {
     "data": {
      "image/png": "[encoded data removed]",
      "text/plain": [
       "<Figure size 576x432 with 1 Axes>"
      ]
     },
     "metadata": {},
     "output_type": "display_data"
    }
   ],
   "source": [
    "plot_loss_acc_curves(history)"
   ]
  }
 ],
 "metadata": {
  "kernelspec": {
   "display_name": "Python 3",
   "language": "python",
   "name": "python3"
  },
  "language_info": {
   "codemirror_mode": {
    "name": "ipython",
    "version": 3
   },
   "file_extension": ".py",
   "mimetype": "text/x-python",
   "name": "python",
   "nbconvert_exporter": "python",
   "pygments_lexer": "ipython3",
   "version": "3.6.4"
  }
 },
 "nbformat": 4,
 "nbformat_minor": 2
}
